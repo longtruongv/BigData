{
 "cells": [
  {
   "cell_type": "code",
   "execution_count": 1,
   "id": "afaace2a",
   "metadata": {},
   "outputs": [
    {
     "data": {
      "text/plain": [
       "'C:\\\\spark-3.3.1-bin-hadoop2\\\\spark-3.3.1-bin-hadoop2'"
      ]
     },
     "execution_count": 1,
     "metadata": {},
     "output_type": "execute_result"
    }
   ],
   "source": [
    "import findspark\n",
    "findspark.init()\n",
    "\n",
    "import pyspark\n",
    "findspark.find()"
   ]
  },
  {
   "cell_type": "code",
   "execution_count": 2,
   "id": "0b918bb3-e2da-49b1-96af-c6dd978a5465",
   "metadata": {},
   "outputs": [],
   "source": [
    "from pyspark import SparkContext, SparkConf\n",
    "from pyspark.streaming import StreamingContext\n",
    "from pyspark.sql import SparkSession, SQLContext\n",
    "\n",
    "from pyspark.sql.functions import *\n",
    "from pyspark.sql import Row"
   ]
  },
  {
   "cell_type": "markdown",
   "id": "94a36f0c-439d-4526-b197-96c9784e6094",
   "metadata": {
    "tags": []
   },
   "source": [
    "# Initiate Spark"
   ]
  },
  {
   "cell_type": "code",
   "execution_count": 3,
   "id": "b4f402ef-f71a-4592-b96c-84c14f1c7ef1",
   "metadata": {},
   "outputs": [
    {
     "data": {
      "text/html": [
       "\n",
       "            <div>\n",
       "                <p><b>SparkSession - in-memory</b></p>\n",
       "                \n",
       "        <div>\n",
       "            <p><b>SparkContext</b></p>\n",
       "\n",
       "            <p><a href=\"http://host.docker.internal:4040\">Spark UI</a></p>\n",
       "\n",
       "            <dl>\n",
       "              <dt>Version</dt>\n",
       "                <dd><code>v3.3.1</code></dd>\n",
       "              <dt>Master</dt>\n",
       "                <dd><code>local[*]</code></dd>\n",
       "              <dt>AppName</dt>\n",
       "                <dd><code>streamingExampleRead</code></dd>\n",
       "            </dl>\n",
       "        </div>\n",
       "        \n",
       "            </div>\n",
       "        "
      ],
      "text/plain": [
       "<pyspark.sql.session.SparkSession at 0x2d519b6c8b0>"
      ]
     },
     "execution_count": 3,
     "metadata": {},
     "output_type": "execute_result"
    }
   ],
   "source": [
    "# conf = (SparkConf() \n",
    "#     .set(\"spark.jars.packages\", \"org.mongodb.spark:mongo-spark-connector:10.0.0,org.postgresql:postgresql:42.5.0\")\n",
    "#     .setMaster(\"local\") #spark://spark-master:7077\n",
    "#     .setAppName('SparkApp') \n",
    "# )\n",
    "\n",
    "# sc = SparkContext(conf=conf)\n",
    "\n",
    "# spark = SparkSession(sc)\n",
    "\n",
    "spark = (SparkSession\n",
    "    .builder\n",
    "    .appName(\"streamingExampleRead\")\n",
    "    .config('spark.jars.packages', 'org.mongodb.spark:mongo-spark-connector:10.0.0,org.postgresql:postgresql:42.5.0')\n",
    "    # .config('spark.jars.packages', 'org.apache.spark:spark-sql-kafka-0-10_2.12:3.3.1,org.postgresql:postgresql:42.5.0')\n",
    "    .getOrCreate()\n",
    ")\n",
    "\n",
    "spark"
   ]
  },
  {
   "cell_type": "markdown",
   "id": "51fa266a-28d7-4ec6-9fd4-4898eaa48cb2",
   "metadata": {
    "tags": []
   },
   "source": [
    "# Read Stream From MongoDB"
   ]
  },
  {
   "cell_type": "code",
   "execution_count": 4,
   "id": "27adf9c1-1949-43bb-b978-24dd8b53beb7",
   "metadata": {
    "scrolled": true,
    "tags": []
   },
   "outputs": [
    {
     "name": "stdout",
     "output_type": "stream",
     "text": [
      "root\n",
      " |-- _id: string (nullable = true)\n",
      " |-- info: struct (nullable = true)\n",
      " |    |-- ShortName: string (nullable = true)\n",
      " |    |-- FullName: string (nullable = true)\n",
      " |    |-- Position: string (nullable = true)\n",
      " |    |-- Height: string (nullable = true)\n",
      " |    |-- Weight: string (nullable = true)\n",
      " |    |-- Footed: string (nullable = true)\n",
      " |    |-- DOB: string (nullable = true)\n",
      " |    |-- Nationality: string (nullable = true)\n",
      " |    |-- Club: string (nullable = true)\n",
      " |-- stats: struct (nullable = true)\n",
      " |    |-- adv_goalkeeping: array (nullable = true)\n",
      " |    |    |-- element: struct (containsNull = true)\n",
      " |    |    |    |-- #OPA: integer (nullable = true)\n",
      " |    |    |    |-- #OPA/90: double (nullable = true)\n",
      " |    |    |    |-- /90: double (nullable = true)\n",
      " |    |    |    |-- 90s: double (nullable = true)\n",
      " |    |    |    |-- Age: integer (nullable = true)\n",
      " |    |    |    |-- Att: integer (nullable = true)\n",
      " |    |    |    |-- AvgDist: double (nullable = true)\n",
      " |    |    |    |-- AvgLen: double (nullable = true)\n",
      " |    |    |    |-- CK: integer (nullable = true)\n",
      " |    |    |    |-- Cmp: integer (nullable = true)\n",
      " |    |    |    |-- Cmp%: double (nullable = true)\n",
      " |    |    |    |-- Comp: string (nullable = true)\n",
      " |    |    |    |-- Country: string (nullable = true)\n",
      " |    |    |    |-- FK: integer (nullable = true)\n",
      " |    |    |    |-- GA: integer (nullable = true)\n",
      " |    |    |    |-- Launch%: double (nullable = true)\n",
      " |    |    |    |-- LgRank: string (nullable = true)\n",
      " |    |    |    |-- Matches: string (nullable = true)\n",
      " |    |    |    |-- OG: integer (nullable = true)\n",
      " |    |    |    |-- Opp: integer (nullable = true)\n",
      " |    |    |    |-- PKA: integer (nullable = true)\n",
      " |    |    |    |-- PSxG: double (nullable = true)\n",
      " |    |    |    |-- PSxG+/-: double (nullable = true)\n",
      " |    |    |    |-- PSxG/SoT: double (nullable = true)\n",
      " |    |    |    |-- Season: string (nullable = true)\n",
      " |    |    |    |-- Squad: string (nullable = true)\n",
      " |    |    |    |-- Stp: integer (nullable = true)\n",
      " |    |    |    |-- Stp%: double (nullable = true)\n",
      " |    |    |    |-- Thr: integer (nullable = true)\n",
      " |    |-- defensive: array (nullable = true)\n",
      " |    |    |-- element: struct (containsNull = true)\n",
      " |    |    |    |-- 90s: double (nullable = true)\n",
      " |    |    |    |-- Age: integer (nullable = true)\n",
      " |    |    |    |-- Att: integer (nullable = true)\n",
      " |    |    |    |-- Att 3rd: integer (nullable = true)\n",
      " |    |    |    |-- Blocks: integer (nullable = true)\n",
      " |    |    |    |-- Clr: integer (nullable = true)\n",
      " |    |    |    |-- Comp: string (nullable = true)\n",
      " |    |    |    |-- Country: string (nullable = true)\n",
      " |    |    |    |-- Def 3rd: integer (nullable = true)\n",
      " |    |    |    |-- Err: integer (nullable = true)\n",
      " |    |    |    |-- Int: integer (nullable = true)\n",
      " |    |    |    |-- LgRank: string (nullable = true)\n",
      " |    |    |    |-- Lost: integer (nullable = true)\n",
      " |    |    |    |-- Matches: string (nullable = true)\n",
      " |    |    |    |-- Mid 3rd: integer (nullable = true)\n",
      " |    |    |    |-- Pass: integer (nullable = true)\n",
      " |    |    |    |-- Season: string (nullable = true)\n",
      " |    |    |    |-- Sh: integer (nullable = true)\n",
      " |    |    |    |-- Squad: string (nullable = true)\n",
      " |    |    |    |-- Tkl: integer (nullable = true)\n",
      " |    |    |    |-- Tkl%: double (nullable = true)\n",
      " |    |    |    |-- Tkl+Int: integer (nullable = true)\n",
      " |    |    |    |-- TklW: integer (nullable = true)\n",
      " |    |-- goal_shot_creation: array (nullable = true)\n",
      " |    |    |-- element: struct (containsNull = true)\n",
      " |    |    |    |-- 90s: double (nullable = true)\n",
      " |    |    |    |-- Age: integer (nullable = true)\n",
      " |    |    |    |-- Comp: string (nullable = true)\n",
      " |    |    |    |-- Country: string (nullable = true)\n",
      " |    |    |    |-- Def: integer (nullable = true)\n",
      " |    |    |    |-- Fld: integer (nullable = true)\n",
      " |    |    |    |-- GCA: integer (nullable = true)\n",
      " |    |    |    |-- GCA90: double (nullable = true)\n",
      " |    |    |    |-- LgRank: string (nullable = true)\n",
      " |    |    |    |-- Matches: string (nullable = true)\n",
      " |    |    |    |-- PassDead: integer (nullable = true)\n",
      " |    |    |    |-- PassLive: integer (nullable = true)\n",
      " |    |    |    |-- SCA: integer (nullable = true)\n",
      " |    |    |    |-- SCA90: double (nullable = true)\n",
      " |    |    |    |-- Season: string (nullable = true)\n",
      " |    |    |    |-- Sh: integer (nullable = true)\n",
      " |    |    |    |-- Squad: string (nullable = true)\n",
      " |    |    |    |-- TO: integer (nullable = true)\n",
      " |    |-- goalkeeping: array (nullable = true)\n",
      " |    |    |-- element: string (containsNull = true)\n",
      " |    |-- miscellaneous: array (nullable = true)\n",
      " |    |    |-- element: struct (containsNull = true)\n",
      " |    |    |    |-- 2CrdY: integer (nullable = true)\n",
      " |    |    |    |-- 90s: double (nullable = true)\n",
      " |    |    |    |-- Age: integer (nullable = true)\n",
      " |    |    |    |-- Comp: string (nullable = true)\n",
      " |    |    |    |-- Country: string (nullable = true)\n",
      " |    |    |    |-- CrdR: integer (nullable = true)\n",
      " |    |    |    |-- CrdY: integer (nullable = true)\n",
      " |    |    |    |-- Crs: integer (nullable = true)\n",
      " |    |    |    |-- Fld: integer (nullable = true)\n",
      " |    |    |    |-- Fls: integer (nullable = true)\n",
      " |    |    |    |-- Int: integer (nullable = true)\n",
      " |    |    |    |-- LgRank: string (nullable = true)\n",
      " |    |    |    |-- Lost: integer (nullable = true)\n",
      " |    |    |    |-- Matches: string (nullable = true)\n",
      " |    |    |    |-- OG: integer (nullable = true)\n",
      " |    |    |    |-- Off: integer (nullable = true)\n",
      " |    |    |    |-- PKcon: integer (nullable = true)\n",
      " |    |    |    |-- PKwon: integer (nullable = true)\n",
      " |    |    |    |-- Recov: integer (nullable = true)\n",
      " |    |    |    |-- Season: string (nullable = true)\n",
      " |    |    |    |-- Squad: string (nullable = true)\n",
      " |    |    |    |-- TklW: integer (nullable = true)\n",
      " |    |    |    |-- Won: integer (nullable = true)\n",
      " |    |    |    |-- Won%: double (nullable = true)\n",
      " |    |-- pass_type: array (nullable = true)\n",
      " |    |    |-- element: struct (containsNull = true)\n",
      " |    |    |    |-- 90s: double (nullable = true)\n",
      " |    |    |    |-- Age: integer (nullable = true)\n",
      " |    |    |    |-- Att: integer (nullable = true)\n",
      " |    |    |    |-- Blocks: integer (nullable = true)\n",
      " |    |    |    |-- CK: integer (nullable = true)\n",
      " |    |    |    |-- Cmp: integer (nullable = true)\n",
      " |    |    |    |-- Comp: string (nullable = true)\n",
      " |    |    |    |-- Country: string (nullable = true)\n",
      " |    |    |    |-- Crs: integer (nullable = true)\n",
      " |    |    |    |-- Dead: integer (nullable = true)\n",
      " |    |    |    |-- FK: integer (nullable = true)\n",
      " |    |    |    |-- In: integer (nullable = true)\n",
      " |    |    |    |-- LgRank: string (nullable = true)\n",
      " |    |    |    |-- Live: integer (nullable = true)\n",
      " |    |    |    |-- Matches: string (nullable = true)\n",
      " |    |    |    |-- Off: integer (nullable = true)\n",
      " |    |    |    |-- Out: integer (nullable = true)\n",
      " |    |    |    |-- Season: string (nullable = true)\n",
      " |    |    |    |-- Squad: string (nullable = true)\n",
      " |    |    |    |-- Str: integer (nullable = true)\n",
      " |    |    |    |-- Sw: integer (nullable = true)\n",
      " |    |    |    |-- TB: integer (nullable = true)\n",
      " |    |    |    |-- TI: integer (nullable = true)\n",
      " |    |-- passing: array (nullable = true)\n",
      " |    |    |-- element: struct (containsNull = true)\n",
      " |    |    |    |-- 1/3: integer (nullable = true)\n",
      " |    |    |    |-- 90s: double (nullable = true)\n",
      " |    |    |    |-- A-xAG: double (nullable = true)\n",
      " |    |    |    |-- Age: integer (nullable = true)\n",
      " |    |    |    |-- Ast: integer (nullable = true)\n",
      " |    |    |    |-- Att: integer (nullable = true)\n",
      " |    |    |    |-- Cmp: integer (nullable = true)\n",
      " |    |    |    |-- Cmp%: double (nullable = true)\n",
      " |    |    |    |-- Comp: string (nullable = true)\n",
      " |    |    |    |-- Country: string (nullable = true)\n",
      " |    |    |    |-- CrsPA: integer (nullable = true)\n",
      " |    |    |    |-- KP: integer (nullable = true)\n",
      " |    |    |    |-- LgRank: string (nullable = true)\n",
      " |    |    |    |-- Matches: string (nullable = true)\n",
      " |    |    |    |-- PPA: integer (nullable = true)\n",
      " |    |    |    |-- PrgDist: integer (nullable = true)\n",
      " |    |    |    |-- PrgP: integer (nullable = true)\n",
      " |    |    |    |-- Season: string (nullable = true)\n",
      " |    |    |    |-- Squad: string (nullable = true)\n",
      " |    |    |    |-- TotDist: integer (nullable = true)\n",
      " |    |    |    |-- xA: double (nullable = true)\n",
      " |    |    |    |-- xAG: double (nullable = true)\n",
      " |    |-- playing_time: array (nullable = true)\n",
      " |    |    |-- element: struct (containsNull = true)\n",
      " |    |    |    |-- +/-: integer (nullable = true)\n",
      " |    |    |    |-- +/-90: double (nullable = true)\n",
      " |    |    |    |-- 90s: double (nullable = true)\n",
      " |    |    |    |-- Age: integer (nullable = true)\n",
      " |    |    |    |-- Comp: string (nullable = true)\n",
      " |    |    |    |-- Compl: integer (nullable = true)\n",
      " |    |    |    |-- Country: string (nullable = true)\n",
      " |    |    |    |-- LgRank: string (nullable = true)\n",
      " |    |    |    |-- MP: integer (nullable = true)\n",
      " |    |    |    |-- Matches: string (nullable = true)\n",
      " |    |    |    |-- Min: string (nullable = true)\n",
      " |    |    |    |-- Min%: double (nullable = true)\n",
      " |    |    |    |-- Mn/MP: integer (nullable = true)\n",
      " |    |    |    |-- Mn/Start: integer (nullable = true)\n",
      " |    |    |    |-- Mn/Sub: integer (nullable = true)\n",
      " |    |    |    |-- On-Off: double (nullable = true)\n",
      " |    |    |    |-- PPM: double (nullable = true)\n",
      " |    |    |    |-- Season: string (nullable = true)\n",
      " |    |    |    |-- Squad: string (nullable = true)\n",
      " |    |    |    |-- Starts: integer (nullable = true)\n",
      " |    |    |    |-- Subs: integer (nullable = true)\n",
      " |    |    |    |-- onG: integer (nullable = true)\n",
      " |    |    |    |-- onGA: integer (nullable = true)\n",
      " |    |    |    |-- onxG: double (nullable = true)\n",
      " |    |    |    |-- onxGA: double (nullable = true)\n",
      " |    |    |    |-- unSub: integer (nullable = true)\n",
      " |    |    |    |-- xG+/-: double (nullable = true)\n",
      " |    |    |    |-- xG+/-90: double (nullable = true)\n",
      " |    |-- possession: array (nullable = true)\n",
      " |    |    |-- element: struct (containsNull = true)\n",
      " |    |    |    |-- 1/3: integer (nullable = true)\n",
      " |    |    |    |-- 90s: double (nullable = true)\n",
      " |    |    |    |-- Age: integer (nullable = true)\n",
      " |    |    |    |-- Att: integer (nullable = true)\n",
      " |    |    |    |-- Att 3rd: integer (nullable = true)\n",
      " |    |    |    |-- Att Pen: integer (nullable = true)\n",
      " |    |    |    |-- CPA: integer (nullable = true)\n",
      " |    |    |    |-- Carries: integer (nullable = true)\n",
      " |    |    |    |-- Comp: string (nullable = true)\n",
      " |    |    |    |-- Country: string (nullable = true)\n",
      " |    |    |    |-- Def 3rd: integer (nullable = true)\n",
      " |    |    |    |-- Def Pen: integer (nullable = true)\n",
      " |    |    |    |-- Dis: integer (nullable = true)\n",
      " |    |    |    |-- LgRank: string (nullable = true)\n",
      " |    |    |    |-- Live: integer (nullable = true)\n",
      " |    |    |    |-- Matches: string (nullable = true)\n",
      " |    |    |    |-- Mid 3rd: integer (nullable = true)\n",
      " |    |    |    |-- Mis: integer (nullable = true)\n",
      " |    |    |    |-- PrgC: integer (nullable = true)\n",
      " |    |    |    |-- PrgDist: integer (nullable = true)\n",
      " |    |    |    |-- PrgR: integer (nullable = true)\n",
      " |    |    |    |-- Rec: integer (nullable = true)\n",
      " |    |    |    |-- Season: string (nullable = true)\n",
      " |    |    |    |-- Squad: string (nullable = true)\n",
      " |    |    |    |-- Succ: integer (nullable = true)\n",
      " |    |    |    |-- Succ%: double (nullable = true)\n",
      " |    |    |    |-- Tkld: integer (nullable = true)\n",
      " |    |    |    |-- Tkld%: double (nullable = true)\n",
      " |    |    |    |-- TotDist: integer (nullable = true)\n",
      " |    |    |    |-- Touches: integer (nullable = true)\n",
      " |    |-- shooting: array (nullable = true)\n",
      " |    |    |-- element: struct (containsNull = true)\n",
      " |    |    |    |-- 90s: double (nullable = true)\n",
      " |    |    |    |-- Age: integer (nullable = true)\n",
      " |    |    |    |-- Comp: string (nullable = true)\n",
      " |    |    |    |-- Country: string (nullable = true)\n",
      " |    |    |    |-- Dist: double (nullable = true)\n",
      " |    |    |    |-- FK: integer (nullable = true)\n",
      " |    |    |    |-- G-xG: double (nullable = true)\n",
      " |    |    |    |-- G/Sh: double (nullable = true)\n",
      " |    |    |    |-- G/SoT: double (nullable = true)\n",
      " |    |    |    |-- Gls: integer (nullable = true)\n",
      " |    |    |    |-- LgRank: string (nullable = true)\n",
      " |    |    |    |-- Matches: string (nullable = true)\n",
      " |    |    |    |-- PK: integer (nullable = true)\n",
      " |    |    |    |-- PKatt: integer (nullable = true)\n",
      " |    |    |    |-- Season: string (nullable = true)\n",
      " |    |    |    |-- Sh: integer (nullable = true)\n",
      " |    |    |    |-- Sh/90: double (nullable = true)\n",
      " |    |    |    |-- SoT: integer (nullable = true)\n",
      " |    |    |    |-- SoT%: double (nullable = true)\n",
      " |    |    |    |-- SoT/90: double (nullable = true)\n",
      " |    |    |    |-- Squad: string (nullable = true)\n",
      " |    |    |    |-- np:G-xG: double (nullable = true)\n",
      " |    |    |    |-- npxG: double (nullable = true)\n",
      " |    |    |    |-- npxG/Sh: double (nullable = true)\n",
      " |    |    |    |-- xG: double (nullable = true)\n",
      " |    |-- std: array (nullable = true)\n",
      " |    |    |-- element: struct (containsNull = true)\n",
      " |    |    |    |-- 90s: double (nullable = true)\n",
      " |    |    |    |-- Age: integer (nullable = true)\n",
      " |    |    |    |-- Ast: integer (nullable = true)\n",
      " |    |    |    |-- Comp: string (nullable = true)\n",
      " |    |    |    |-- Country: string (nullable = true)\n",
      " |    |    |    |-- CrdR: integer (nullable = true)\n",
      " |    |    |    |-- CrdY: integer (nullable = true)\n",
      " |    |    |    |-- G+A: integer (nullable = true)\n",
      " |    |    |    |-- G+A-PK: double (nullable = true)\n",
      " |    |    |    |-- G-PK: integer (nullable = true)\n",
      " |    |    |    |-- Gls: integer (nullable = true)\n",
      " |    |    |    |-- LgRank: string (nullable = true)\n",
      " |    |    |    |-- MP: integer (nullable = true)\n",
      " |    |    |    |-- Matches: string (nullable = true)\n",
      " |    |    |    |-- Min: string (nullable = true)\n",
      " |    |    |    |-- PK: integer (nullable = true)\n",
      " |    |    |    |-- PKatt: integer (nullable = true)\n",
      " |    |    |    |-- PrgC: integer (nullable = true)\n",
      " |    |    |    |-- PrgP: integer (nullable = true)\n",
      " |    |    |    |-- PrgR: integer (nullable = true)\n",
      " |    |    |    |-- Season: string (nullable = true)\n",
      " |    |    |    |-- Squad: string (nullable = true)\n",
      " |    |    |    |-- Starts: integer (nullable = true)\n",
      " |    |    |    |-- npxG: double (nullable = true)\n",
      " |    |    |    |-- npxG+xAG: double (nullable = true)\n",
      " |    |    |    |-- xAG: double (nullable = true)\n",
      " |    |    |    |-- xG: double (nullable = true)\n",
      " |    |    |    |-- xG+xAG: double (nullable = true)\n",
      " |-- type: string (nullable = true)\n",
      "\n"
     ]
    }
   ],
   "source": [
    "player_stream_df = (spark.readStream\n",
    "    .format(\"mongodb\")\n",
    "    .option(\"spark.mongodb.connection.uri\", 'mongodb://localhost:27017')\n",
    "    .option('spark.mongodb.database', 'football_data_new')\n",
    "    .option('spark.mongodb.collection', 'player')\n",
    "    .load()\n",
    ")\n",
    "\n",
    "# player_stream_df = (spark.readStream\n",
    "#     .format(\"kafka\")\n",
    "#     .option(\"kafka.bootstrap.servers\", 'localhost:9092')\n",
    "#     .option(\"subscribe\", \"football_player\")\n",
    "#     .load()\n",
    "# )\n",
    "\n",
    "player_stream_df.printSchema()"
   ]
  },
  {
   "cell_type": "markdown",
   "id": "06c06678-8bea-4771-9d45-8d6efaf141ce",
   "metadata": {},
   "source": [
    "# Process Data"
   ]
  },
  {
   "cell_type": "code",
   "execution_count": 5,
   "id": "911fd580-4043-44a2-ac78-0196d541d257",
   "metadata": {
    "scrolled": true,
    "tags": []
   },
   "outputs": [],
   "source": [
    "# INFO SCHEMA\n",
    "info_table_schema = player_stream_df.select('info').schema[0].dataType\n",
    "\n",
    "# STATS SCHEMA\n",
    "stats_table_schemas = {}\n",
    "stats_table_names = player_stream_df.schema['stats'].dataType.fieldNames()\n",
    "for table_name in stats_table_names:\n",
    "    full_table_name = 'stats.' + table_name\n",
    "    table_schema = player_stream_df.select(full_table_name).schema[0].dataType.elementType\n",
    "    stats_table_schemas[table_name] = table_schema\n",
    "    \n",
    "# stats_table_names = spark.sparkContext.broadcast(stats_table_names)\n",
    "# stats_table_schemas = spark.sparkContext.broadcast(stats_table_schemas)"
   ]
  },
  {
   "cell_type": "code",
   "execution_count": 9,
   "id": "8412283d",
   "metadata": {},
   "outputs": [
    {
     "name": "stdout",
     "output_type": "stream",
     "text": [
      "+---------+--------+--------+------+------+------+---+-----------+----+\n",
      "|ShortName|FullName|Position|Height|Weight|Footed|DOB|Nationality|Club|\n",
      "+---------+--------+--------+------+------+------+---+-----------+----+\n",
      "+---------+--------+--------+------+------+------+---+-----------+----+\n",
      "\n"
     ]
    }
   ],
   "source": []
  },
  {
   "cell_type": "code",
   "execution_count": 10,
   "id": "00b902fb-15d3-43d2-99c9-69c2c5b883e6",
   "metadata": {},
   "outputs": [],
   "source": [
    "# stats_tables = {}\n",
    "# stats_datas = {}\n",
    "# stats_datas = spark.sparkContext.broadcast(stats_datas)\n",
    "\n",
    "# info_table = spark.createDataFrame(\n",
    "#     data = [],\n",
    "#     schema = info_table_schema\n",
    "# )\n",
    "\n",
    "def process_row(row: Row):  \n",
    "    # table_names = stats_table_names.value\n",
    "    # table_schemas = stats_table_schemas.value\n",
    "    \n",
    "    player_id = row['_id']\n",
    "    player_info = row['info']\n",
    "    player_stats = row['stats']\n",
    "\n",
    "    print(player_id)\n",
    "\n",
    "    return player_info\n",
    "    \n",
    "# def process_batch(df: DataFrame, epoch_id):\n",
    "#     df.printSchema()"
   ]
  },
  {
   "cell_type": "code",
   "execution_count": 12,
   "id": "34b08ee2",
   "metadata": {},
   "outputs": [],
   "source": [
    "map = player_stream_df.mapInPandas(process_row, info_table_schema)"
   ]
  },
  {
   "cell_type": "code",
   "execution_count": 18,
   "id": "a48a5e71",
   "metadata": {},
   "outputs": [
    {
     "data": {
      "text/plain": [
       "<pyspark.sql.streaming.StreamingQuery at 0x2d51d93d160>"
      ]
     },
     "execution_count": 18,
     "metadata": {},
     "output_type": "execute_result"
    }
   ],
   "source": [
    "map.writeStream.foreach(lambda x: print(x)).start()"
   ]
  },
  {
   "cell_type": "code",
   "execution_count": null,
   "id": "e48d10b0",
   "metadata": {},
   "outputs": [],
   "source": []
  },
  {
   "cell_type": "markdown",
   "id": "a0ad8a92-1bde-4b53-a1a6-899c792707cb",
   "metadata": {},
   "source": [
    "### TEST"
   ]
  },
  {
   "cell_type": "code",
   "execution_count": 19,
   "id": "96b37eb8-3441-4b14-91fe-b1a759aaf05f",
   "metadata": {},
   "outputs": [
    {
     "data": {
      "text/plain": [
       "<pyspark.sql.streaming.StreamingQuery at 0x2d51d9a5370>"
      ]
     },
     "execution_count": 19,
     "metadata": {},
     "output_type": "execute_result"
    }
   ],
   "source": [
    "stream_writer = (player_stream_df.writeStream\n",
    "     .format(\"console\")\n",
    "     .trigger(continuous=\"1 second\")\n",
    "#     .foreach(process_row)\n",
    "     .outputMode(\"append\")\n",
    ")\n",
    "\n",
    "stream_writer.start()"
   ]
  },
  {
   "cell_type": "markdown",
   "id": "0273c611-1b4a-49b1-8f61-efdb514ca20d",
   "metadata": {
    "tags": []
   },
   "source": [
    "# Write Stream to PostgreSQL"
   ]
  },
  {
   "cell_type": "code",
   "execution_count": 120,
   "id": "e2bac886-1166-442f-9225-7ff8022da712",
   "metadata": {},
   "outputs": [],
   "source": [
    "def _save_to_Postgres(df, epoch_id, table_name):         \n",
    "    df.write \\\n",
    "        .mode('append') \\\n",
    "        .format(\"jdbc\") \\\n",
    "        .option(\"url\", \"jdbc:postgresql://postgres:5432/news_crawled\") \\\n",
    "        .option(\"driver\", \"org.postgresql.Driver\") \\\n",
    "        .option(\"dbtable\", table_name) \\\n",
    "        .option(\"user\", 'test1') \\\n",
    "        .option(\"password\", 'test1') \\\n",
    "        .save() "
   ]
  },
  {
   "cell_type": "code",
   "execution_count": 121,
   "id": "e73c00bc-b2d5-4e4e-b6cb-dfe1dcbee769",
   "metadata": {},
   "outputs": [],
   "source": [
    "for table_name in stats_tables:\n",
    "    full_table_name = 'player.' + table_name\n",
    "    postgresql_stream = (stats_tables[table_name]\n",
    "        .writeStream \n",
    "        .trigger(processingTime='5 seconds')\n",
    "        .outputMode('update')\n",
    "        .foreachBatch(\n",
    "            lambda df, epoch_id: _write_streaming(df, epoch_id, full_table_name)\n",
    "        )\n",
    "        .start()\n",
    "    )"
   ]
  },
  {
   "cell_type": "markdown",
   "id": "2d4fa519-18d7-4af2-8217-8cb946284b08",
   "metadata": {
    "jp-MarkdownHeadingCollapsed": true,
    "tags": []
   },
   "source": [
    "# Terminate Spark Stream"
   ]
  },
  {
   "cell_type": "code",
   "execution_count": null,
   "id": "05ec3142-483e-4ba0-85bd-f76c3f784d5a",
   "metadata": {},
   "outputs": [],
   "source": [
    "spark.streams.awaitAnyTermination()\n",
    "spark.stop()"
   ]
  }
 ],
 "metadata": {
  "kernelspec": {
   "display_name": "Python 3",
   "language": "python",
   "name": "python3"
  },
  "language_info": {
   "codemirror_mode": {
    "name": "ipython",
    "version": 3
   },
   "file_extension": ".py",
   "mimetype": "text/x-python",
   "name": "python",
   "nbconvert_exporter": "python",
   "pygments_lexer": "ipython3",
   "version": "3.9.13"
  },
  "vscode": {
   "interpreter": {
    "hash": "ef5c86095758c38672f850e8bf4a2cb572b380cc4c10632a5b8af650a801b002"
   }
  }
 },
 "nbformat": 4,
 "nbformat_minor": 5
}
