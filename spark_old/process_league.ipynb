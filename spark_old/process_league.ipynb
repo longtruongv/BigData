{
 "cells": [
  {
   "cell_type": "code",
   "execution_count": null,
   "id": "d1731edc-6443-4344-9296-a538facd5b63",
   "metadata": {},
   "outputs": [],
   "source": []
  }
 ],
 "metadata": {
  "kernelspec": {
   "display_name": "Python 3",
   "language": "python",
   "name": "python3"
  },
  "language_info": {
   "codemirror_mode": {
    "name": "ipython",
    "version": 3
   },
   "file_extension": ".py",
   "mimetype": "text/x-python",
   "name": "python",
   "nbconvert_exporter": "python",
   "pygments_lexer": "ipython3",
   "version": "3.9.13"
  },
  "vscode": {
   "interpreter": {
    "hash": "ef5c86095758c38672f850e8bf4a2cb572b380cc4c10632a5b8af650a801b002"
   }
  }
 },
 "nbformat": 4,
 "nbformat_minor": 5
}
