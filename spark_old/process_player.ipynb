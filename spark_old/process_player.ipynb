{
 "cells": [
  {
   "cell_type": "code",
   "execution_count": 1,
   "metadata": {},
   "outputs": [],
   "source": [
    "from pyspark import SparkContext, SparkConf\n",
    "from pyspark.sql import SparkSession\n",
    "\n",
    "from pyspark.sql.functions import *\n",
    "from pyspark.sql import Row"
   ]
  },
  {
   "cell_type": "code",
   "execution_count": 2,
   "metadata": {},
   "outputs": [
    {
     "name": "stdout",
     "output_type": "stream",
     "text": [
      "SparkContext has not been initiated\n"
     ]
    }
   ],
   "source": [
    "try:\n",
    "    sc.stop()\n",
    "except:\n",
    "    print(\"SparkContext has not been initiated\")"
   ]
  },
  {
   "cell_type": "code",
   "execution_count": 4,
   "metadata": {},
   "outputs": [
    {
     "data": {
      "text/html": [
       "\n",
       "            <div>\n",
       "                <p><b>SparkSession - in-memory</b></p>\n",
       "                \n",
       "        <div>\n",
       "            <p><b>SparkContext</b></p>\n",
       "\n",
       "            <p><a href=\"http://d03f2fcff77e:4040\">Spark UI</a></p>\n",
       "\n",
       "            <dl>\n",
       "              <dt>Version</dt>\n",
       "                <dd><code>v3.3.1</code></dd>\n",
       "              <dt>Master</dt>\n",
       "                <dd><code>local</code></dd>\n",
       "              <dt>AppName</dt>\n",
       "                <dd><code>SparkApp</code></dd>\n",
       "            </dl>\n",
       "        </div>\n",
       "        \n",
       "            </div>\n",
       "        "
      ],
      "text/plain": [
       "<pyspark.sql.session.SparkSession at 0x7f9decd5b610>"
      ]
     },
     "execution_count": 4,
     "metadata": {},
     "output_type": "execute_result"
    }
   ],
   "source": [
    "conf = (SparkConf() \n",
    "    .set(\"spark.jars.packages\", \"org.mongodb.spark:mongo-spark-connector_2.12:3.0.1,org.postgresql:postgresql:42.5.0\")\n",
    "    .setMaster(\"local\") #spark://spark-master:7077\n",
    "    .setAppName('SparkApp') \n",
    ")\n",
    "\n",
    "sc = SparkContext(conf=conf)\n",
    "\n",
    "spark = SparkSession(sc)\n",
    "\n",
    "spark\n",
    "\n",
    "# OLD\n",
    "# conf = SparkConf() \\\n",
    "#     .set(\"spark.jars.packages\", \"org.mongodb.spark:mongo-spark-connector:10.0.0,org.postgresql:postgresql:42.5.0\")\n",
    "\n",
    "# sc = SparkContext(conf=conf)\n",
    "# # sql_context = SQLContext(sc)\n",
    "\n",
    "# spark = (SparkSession.builder\n",
    "#     .master(\"spark://spark-master:7077\")\n",
    "#     .appName(\"myApp\")\n",
    "#     .getOrCreate()\n",
    "# )\n",
    "# spark"
   ]
  },
  {
   "cell_type": "markdown",
   "metadata": {},
   "source": [
    "# Load dataframe"
   ]
  },
  {
   "cell_type": "code",
   "execution_count": 5,
   "metadata": {
    "scrolled": true,
    "tags": []
   },
   "outputs": [
    {
     "name": "stdout",
     "output_type": "stream",
     "text": [
      "root\n",
      " |-- _id: string (nullable = true)\n",
      " |-- info: struct (nullable = true)\n",
      " |    |-- ShortName: string (nullable = true)\n",
      " |    |-- FullName: string (nullable = true)\n",
      " |    |-- Position: string (nullable = true)\n",
      " |    |-- Height: string (nullable = true)\n",
      " |    |-- Weight: string (nullable = true)\n",
      " |    |-- Footed: string (nullable = true)\n",
      " |    |-- DOB: string (nullable = true)\n",
      " |    |-- Nationality: string (nullable = true)\n",
      " |    |-- Club: string (nullable = true)\n",
      " |-- stats: struct (nullable = true)\n",
      " |    |-- adv_goalkeeping: array (nullable = true)\n",
      " |    |    |-- element: struct (containsNull = true)\n",
      " |    |    |    |-- #OPA: integer (nullable = true)\n",
      " |    |    |    |-- #OPA/90: double (nullable = true)\n",
      " |    |    |    |-- /90: double (nullable = true)\n",
      " |    |    |    |-- 90s: double (nullable = true)\n",
      " |    |    |    |-- Age: integer (nullable = true)\n",
      " |    |    |    |-- Att: integer (nullable = true)\n",
      " |    |    |    |-- AvgDist: double (nullable = true)\n",
      " |    |    |    |-- AvgLen: double (nullable = true)\n",
      " |    |    |    |-- CK: integer (nullable = true)\n",
      " |    |    |    |-- Cmp: integer (nullable = true)\n",
      " |    |    |    |-- Cmp%: double (nullable = true)\n",
      " |    |    |    |-- Comp: string (nullable = true)\n",
      " |    |    |    |-- Country: string (nullable = true)\n",
      " |    |    |    |-- FK: integer (nullable = true)\n",
      " |    |    |    |-- GA: integer (nullable = true)\n",
      " |    |    |    |-- Launch%: double (nullable = true)\n",
      " |    |    |    |-- LgRank: string (nullable = true)\n",
      " |    |    |    |-- Matches: string (nullable = true)\n",
      " |    |    |    |-- OG: integer (nullable = true)\n",
      " |    |    |    |-- Opp: integer (nullable = true)\n",
      " |    |    |    |-- PKA: integer (nullable = true)\n",
      " |    |    |    |-- PSxG: double (nullable = true)\n",
      " |    |    |    |-- PSxG+/-: double (nullable = true)\n",
      " |    |    |    |-- PSxG/SoT: double (nullable = true)\n",
      " |    |    |    |-- Season: string (nullable = true)\n",
      " |    |    |    |-- Squad: string (nullable = true)\n",
      " |    |    |    |-- Stp: integer (nullable = true)\n",
      " |    |    |    |-- Stp%: double (nullable = true)\n",
      " |    |    |    |-- Thr: integer (nullable = true)\n",
      " |    |-- defensive: array (nullable = true)\n",
      " |    |    |-- element: struct (containsNull = true)\n",
      " |    |    |    |-- 90s: double (nullable = true)\n",
      " |    |    |    |-- Age: integer (nullable = true)\n",
      " |    |    |    |-- Att: integer (nullable = true)\n",
      " |    |    |    |-- Att 3rd: integer (nullable = true)\n",
      " |    |    |    |-- Blocks: integer (nullable = true)\n",
      " |    |    |    |-- Clr: integer (nullable = true)\n",
      " |    |    |    |-- Comp: string (nullable = true)\n",
      " |    |    |    |-- Country: string (nullable = true)\n",
      " |    |    |    |-- Def 3rd: integer (nullable = true)\n",
      " |    |    |    |-- Err: integer (nullable = true)\n",
      " |    |    |    |-- Int: integer (nullable = true)\n",
      " |    |    |    |-- LgRank: string (nullable = true)\n",
      " |    |    |    |-- Lost: integer (nullable = true)\n",
      " |    |    |    |-- Matches: string (nullable = true)\n",
      " |    |    |    |-- Mid 3rd: integer (nullable = true)\n",
      " |    |    |    |-- Pass: integer (nullable = true)\n",
      " |    |    |    |-- Season: string (nullable = true)\n",
      " |    |    |    |-- Sh: integer (nullable = true)\n",
      " |    |    |    |-- Squad: string (nullable = true)\n",
      " |    |    |    |-- Tkl: integer (nullable = true)\n",
      " |    |    |    |-- Tkl%: double (nullable = true)\n",
      " |    |    |    |-- Tkl+Int: integer (nullable = true)\n",
      " |    |    |    |-- TklW: integer (nullable = true)\n",
      " |    |-- goal_shot_creation: array (nullable = true)\n",
      " |    |    |-- element: struct (containsNull = true)\n",
      " |    |    |    |-- 90s: double (nullable = true)\n",
      " |    |    |    |-- Age: integer (nullable = true)\n",
      " |    |    |    |-- Comp: string (nullable = true)\n",
      " |    |    |    |-- Country: string (nullable = true)\n",
      " |    |    |    |-- Def: integer (nullable = true)\n",
      " |    |    |    |-- Fld: integer (nullable = true)\n",
      " |    |    |    |-- GCA: integer (nullable = true)\n",
      " |    |    |    |-- GCA90: double (nullable = true)\n",
      " |    |    |    |-- LgRank: string (nullable = true)\n",
      " |    |    |    |-- Matches: string (nullable = true)\n",
      " |    |    |    |-- PassDead: integer (nullable = true)\n",
      " |    |    |    |-- PassLive: integer (nullable = true)\n",
      " |    |    |    |-- SCA: integer (nullable = true)\n",
      " |    |    |    |-- SCA90: double (nullable = true)\n",
      " |    |    |    |-- Season: string (nullable = true)\n",
      " |    |    |    |-- Sh: integer (nullable = true)\n",
      " |    |    |    |-- Squad: string (nullable = true)\n",
      " |    |    |    |-- TO: integer (nullable = true)\n",
      " |    |-- goalkeeping: array (nullable = true)\n",
      " |    |    |-- element: struct (containsNull = true)\n",
      " |    |    |    |-- 90s: double (nullable = true)\n",
      " |    |    |    |-- Age: integer (nullable = true)\n",
      " |    |    |    |-- CS: integer (nullable = true)\n",
      " |    |    |    |-- CS%: double (nullable = true)\n",
      " |    |    |    |-- Comp: string (nullable = true)\n",
      " |    |    |    |-- Country: string (nullable = true)\n",
      " |    |    |    |-- D: integer (nullable = true)\n",
      " |    |    |    |-- GA: integer (nullable = true)\n",
      " |    |    |    |-- GA90: double (nullable = true)\n",
      " |    |    |    |-- L: integer (nullable = true)\n",
      " |    |    |    |-- LgRank: string (nullable = true)\n",
      " |    |    |    |-- MP: integer (nullable = true)\n",
      " |    |    |    |-- Matches: string (nullable = true)\n",
      " |    |    |    |-- Min: string (nullable = true)\n",
      " |    |    |    |-- PKA: integer (nullable = true)\n",
      " |    |    |    |-- PKatt: integer (nullable = true)\n",
      " |    |    |    |-- PKm: integer (nullable = true)\n",
      " |    |    |    |-- PKsv: integer (nullable = true)\n",
      " |    |    |    |-- Save%: double (nullable = true)\n",
      " |    |    |    |-- Saves: integer (nullable = true)\n",
      " |    |    |    |-- Season: string (nullable = true)\n",
      " |    |    |    |-- SoTA: integer (nullable = true)\n",
      " |    |    |    |-- Squad: string (nullable = true)\n",
      " |    |    |    |-- Starts: integer (nullable = true)\n",
      " |    |    |    |-- W: integer (nullable = true)\n",
      " |    |-- miscellaneous: array (nullable = true)\n",
      " |    |    |-- element: struct (containsNull = true)\n",
      " |    |    |    |-- 2CrdY: integer (nullable = true)\n",
      " |    |    |    |-- 90s: double (nullable = true)\n",
      " |    |    |    |-- Age: integer (nullable = true)\n",
      " |    |    |    |-- Comp: string (nullable = true)\n",
      " |    |    |    |-- Country: string (nullable = true)\n",
      " |    |    |    |-- CrdR: integer (nullable = true)\n",
      " |    |    |    |-- CrdY: integer (nullable = true)\n",
      " |    |    |    |-- Crs: integer (nullable = true)\n",
      " |    |    |    |-- Fld: integer (nullable = true)\n",
      " |    |    |    |-- Fls: integer (nullable = true)\n",
      " |    |    |    |-- Int: integer (nullable = true)\n",
      " |    |    |    |-- LgRank: string (nullable = true)\n",
      " |    |    |    |-- Lost: integer (nullable = true)\n",
      " |    |    |    |-- Matches: string (nullable = true)\n",
      " |    |    |    |-- OG: integer (nullable = true)\n",
      " |    |    |    |-- Off: integer (nullable = true)\n",
      " |    |    |    |-- PKcon: integer (nullable = true)\n",
      " |    |    |    |-- PKwon: integer (nullable = true)\n",
      " |    |    |    |-- Recov: integer (nullable = true)\n",
      " |    |    |    |-- Season: string (nullable = true)\n",
      " |    |    |    |-- Squad: string (nullable = true)\n",
      " |    |    |    |-- TklW: integer (nullable = true)\n",
      " |    |    |    |-- Won: integer (nullable = true)\n",
      " |    |    |    |-- Won%: double (nullable = true)\n",
      " |    |-- pass_type: array (nullable = true)\n",
      " |    |    |-- element: struct (containsNull = true)\n",
      " |    |    |    |-- 90s: double (nullable = true)\n",
      " |    |    |    |-- Age: integer (nullable = true)\n",
      " |    |    |    |-- Att: integer (nullable = true)\n",
      " |    |    |    |-- Blocks: integer (nullable = true)\n",
      " |    |    |    |-- CK: integer (nullable = true)\n",
      " |    |    |    |-- Cmp: integer (nullable = true)\n",
      " |    |    |    |-- Comp: string (nullable = true)\n",
      " |    |    |    |-- Country: string (nullable = true)\n",
      " |    |    |    |-- Crs: integer (nullable = true)\n",
      " |    |    |    |-- Dead: integer (nullable = true)\n",
      " |    |    |    |-- FK: integer (nullable = true)\n",
      " |    |    |    |-- In: integer (nullable = true)\n",
      " |    |    |    |-- LgRank: string (nullable = true)\n",
      " |    |    |    |-- Live: integer (nullable = true)\n",
      " |    |    |    |-- Matches: string (nullable = true)\n",
      " |    |    |    |-- Off: integer (nullable = true)\n",
      " |    |    |    |-- Out: integer (nullable = true)\n",
      " |    |    |    |-- Season: string (nullable = true)\n",
      " |    |    |    |-- Squad: string (nullable = true)\n",
      " |    |    |    |-- Str: integer (nullable = true)\n",
      " |    |    |    |-- Sw: integer (nullable = true)\n",
      " |    |    |    |-- TB: integer (nullable = true)\n",
      " |    |    |    |-- TI: integer (nullable = true)\n",
      " |    |-- passing: array (nullable = true)\n",
      " |    |    |-- element: struct (containsNull = true)\n",
      " |    |    |    |-- 1/3: integer (nullable = true)\n",
      " |    |    |    |-- 90s: double (nullable = true)\n",
      " |    |    |    |-- A-xAG: double (nullable = true)\n",
      " |    |    |    |-- Age: integer (nullable = true)\n",
      " |    |    |    |-- Ast: integer (nullable = true)\n",
      " |    |    |    |-- Att: integer (nullable = true)\n",
      " |    |    |    |-- Cmp: integer (nullable = true)\n",
      " |    |    |    |-- Cmp%: double (nullable = true)\n",
      " |    |    |    |-- Comp: string (nullable = true)\n",
      " |    |    |    |-- Country: string (nullable = true)\n",
      " |    |    |    |-- CrsPA: integer (nullable = true)\n",
      " |    |    |    |-- KP: integer (nullable = true)\n",
      " |    |    |    |-- LgRank: string (nullable = true)\n",
      " |    |    |    |-- Matches: string (nullable = true)\n",
      " |    |    |    |-- PPA: integer (nullable = true)\n",
      " |    |    |    |-- PrgDist: integer (nullable = true)\n",
      " |    |    |    |-- PrgP: integer (nullable = true)\n",
      " |    |    |    |-- Season: string (nullable = true)\n",
      " |    |    |    |-- Squad: string (nullable = true)\n",
      " |    |    |    |-- TotDist: integer (nullable = true)\n",
      " |    |    |    |-- xA: double (nullable = true)\n",
      " |    |    |    |-- xAG: double (nullable = true)\n",
      " |    |-- playing_time: array (nullable = true)\n",
      " |    |    |-- element: struct (containsNull = true)\n",
      " |    |    |    |-- +/-: integer (nullable = true)\n",
      " |    |    |    |-- +/-90: double (nullable = true)\n",
      " |    |    |    |-- 90s: double (nullable = true)\n",
      " |    |    |    |-- Age: integer (nullable = true)\n",
      " |    |    |    |-- Comp: string (nullable = true)\n",
      " |    |    |    |-- Compl: integer (nullable = true)\n",
      " |    |    |    |-- Country: string (nullable = true)\n",
      " |    |    |    |-- LgRank: string (nullable = true)\n",
      " |    |    |    |-- MP: integer (nullable = true)\n",
      " |    |    |    |-- Matches: string (nullable = true)\n",
      " |    |    |    |-- Min: string (nullable = true)\n",
      " |    |    |    |-- Min%: double (nullable = true)\n",
      " |    |    |    |-- Mn/MP: integer (nullable = true)\n",
      " |    |    |    |-- Mn/Start: integer (nullable = true)\n",
      " |    |    |    |-- Mn/Sub: integer (nullable = true)\n",
      " |    |    |    |-- On-Off: double (nullable = true)\n",
      " |    |    |    |-- PPM: double (nullable = true)\n",
      " |    |    |    |-- Season: string (nullable = true)\n",
      " |    |    |    |-- Squad: string (nullable = true)\n",
      " |    |    |    |-- Starts: integer (nullable = true)\n",
      " |    |    |    |-- Subs: integer (nullable = true)\n",
      " |    |    |    |-- onG: integer (nullable = true)\n",
      " |    |    |    |-- onGA: integer (nullable = true)\n",
      " |    |    |    |-- onxG: double (nullable = true)\n",
      " |    |    |    |-- onxGA: double (nullable = true)\n",
      " |    |    |    |-- unSub: integer (nullable = true)\n",
      " |    |    |    |-- xG+/-: double (nullable = true)\n",
      " |    |    |    |-- xG+/-90: double (nullable = true)\n",
      " |    |-- possession: array (nullable = true)\n",
      " |    |    |-- element: struct (containsNull = true)\n",
      " |    |    |    |-- 1/3: integer (nullable = true)\n",
      " |    |    |    |-- 90s: double (nullable = true)\n",
      " |    |    |    |-- Age: integer (nullable = true)\n",
      " |    |    |    |-- Att: integer (nullable = true)\n",
      " |    |    |    |-- Att 3rd: integer (nullable = true)\n",
      " |    |    |    |-- Att Pen: integer (nullable = true)\n",
      " |    |    |    |-- CPA: integer (nullable = true)\n",
      " |    |    |    |-- Carries: integer (nullable = true)\n",
      " |    |    |    |-- Comp: string (nullable = true)\n",
      " |    |    |    |-- Country: string (nullable = true)\n",
      " |    |    |    |-- Def 3rd: integer (nullable = true)\n",
      " |    |    |    |-- Def Pen: integer (nullable = true)\n",
      " |    |    |    |-- Dis: integer (nullable = true)\n",
      " |    |    |    |-- LgRank: string (nullable = true)\n",
      " |    |    |    |-- Live: integer (nullable = true)\n",
      " |    |    |    |-- Matches: string (nullable = true)\n",
      " |    |    |    |-- Mid 3rd: integer (nullable = true)\n",
      " |    |    |    |-- Mis: integer (nullable = true)\n",
      " |    |    |    |-- PrgC: integer (nullable = true)\n",
      " |    |    |    |-- PrgDist: integer (nullable = true)\n",
      " |    |    |    |-- PrgR: integer (nullable = true)\n",
      " |    |    |    |-- Rec: integer (nullable = true)\n",
      " |    |    |    |-- Season: string (nullable = true)\n",
      " |    |    |    |-- Squad: string (nullable = true)\n",
      " |    |    |    |-- Succ: integer (nullable = true)\n",
      " |    |    |    |-- Succ%: double (nullable = true)\n",
      " |    |    |    |-- Tkld: integer (nullable = true)\n",
      " |    |    |    |-- Tkld%: double (nullable = true)\n",
      " |    |    |    |-- TotDist: integer (nullable = true)\n",
      " |    |    |    |-- Touches: integer (nullable = true)\n",
      " |    |-- shooting: array (nullable = true)\n",
      " |    |    |-- element: struct (containsNull = true)\n",
      " |    |    |    |-- 90s: double (nullable = true)\n",
      " |    |    |    |-- Age: integer (nullable = true)\n",
      " |    |    |    |-- Comp: string (nullable = true)\n",
      " |    |    |    |-- Country: string (nullable = true)\n",
      " |    |    |    |-- Dist: double (nullable = true)\n",
      " |    |    |    |-- FK: integer (nullable = true)\n",
      " |    |    |    |-- G-xG: double (nullable = true)\n",
      " |    |    |    |-- G/Sh: double (nullable = true)\n",
      " |    |    |    |-- G/SoT: double (nullable = true)\n",
      " |    |    |    |-- Gls: integer (nullable = true)\n",
      " |    |    |    |-- LgRank: string (nullable = true)\n",
      " |    |    |    |-- Matches: string (nullable = true)\n",
      " |    |    |    |-- PK: integer (nullable = true)\n",
      " |    |    |    |-- PKatt: integer (nullable = true)\n",
      " |    |    |    |-- Season: string (nullable = true)\n",
      " |    |    |    |-- Sh: integer (nullable = true)\n",
      " |    |    |    |-- Sh/90: double (nullable = true)\n",
      " |    |    |    |-- SoT: integer (nullable = true)\n",
      " |    |    |    |-- SoT%: double (nullable = true)\n",
      " |    |    |    |-- SoT/90: double (nullable = true)\n",
      " |    |    |    |-- Squad: string (nullable = true)\n",
      " |    |    |    |-- np:G-xG: double (nullable = true)\n",
      " |    |    |    |-- npxG: double (nullable = true)\n",
      " |    |    |    |-- npxG/Sh: double (nullable = true)\n",
      " |    |    |    |-- xG: double (nullable = true)\n",
      " |    |-- std: array (nullable = true)\n",
      " |    |    |-- element: struct (containsNull = true)\n",
      " |    |    |    |-- 90s: double (nullable = true)\n",
      " |    |    |    |-- Age: integer (nullable = true)\n",
      " |    |    |    |-- Ast: integer (nullable = true)\n",
      " |    |    |    |-- Comp: string (nullable = true)\n",
      " |    |    |    |-- Country: string (nullable = true)\n",
      " |    |    |    |-- CrdR: integer (nullable = true)\n",
      " |    |    |    |-- CrdY: integer (nullable = true)\n",
      " |    |    |    |-- G+A: integer (nullable = true)\n",
      " |    |    |    |-- G+A-PK: double (nullable = true)\n",
      " |    |    |    |-- G-PK: integer (nullable = true)\n",
      " |    |    |    |-- Gls: integer (nullable = true)\n",
      " |    |    |    |-- LgRank: string (nullable = true)\n",
      " |    |    |    |-- MP: integer (nullable = true)\n",
      " |    |    |    |-- Matches: string (nullable = true)\n",
      " |    |    |    |-- Min: string (nullable = true)\n",
      " |    |    |    |-- PK: integer (nullable = true)\n",
      " |    |    |    |-- PKatt: integer (nullable = true)\n",
      " |    |    |    |-- PrgC: integer (nullable = true)\n",
      " |    |    |    |-- PrgP: integer (nullable = true)\n",
      " |    |    |    |-- PrgR: integer (nullable = true)\n",
      " |    |    |    |-- Season: string (nullable = true)\n",
      " |    |    |    |-- Squad: string (nullable = true)\n",
      " |    |    |    |-- Starts: integer (nullable = true)\n",
      " |    |    |    |-- npxG: double (nullable = true)\n",
      " |    |    |    |-- npxG+xAG: double (nullable = true)\n",
      " |    |    |    |-- xAG: double (nullable = true)\n",
      " |    |    |    |-- xG: double (nullable = true)\n",
      " |    |    |    |-- xG+xAG: double (nullable = true)\n",
      " |-- type: string (nullable = true)\n",
      "\n"
     ]
    }
   ],
   "source": [
    "player_df = spark.read \\\n",
    "    .format(\"com.mongodb.spark.sql.DefaultSource\") \\\n",
    "    .option('uri', \"mongodb://mongodb:27017/football_data_new.player\") \\\n",
    "    .load()\n",
    "    \n",
    "player_df.printSchema()"
   ]
  },
  {
   "cell_type": "markdown",
   "metadata": {},
   "source": [
    "# Get schema"
   ]
  },
  {
   "cell_type": "code",
   "execution_count": 6,
   "metadata": {},
   "outputs": [],
   "source": [
    "info_table_schema = player_df.select('info').schema[0].dataType"
   ]
  },
  {
   "cell_type": "code",
   "execution_count": 7,
   "metadata": {
    "scrolled": true,
    "tags": []
   },
   "outputs": [],
   "source": [
    "stats_table_names = player_df.schema['stats'].dataType.fieldNames()\n",
    "\n",
    "stats_table_schemas = {}\n",
    "for table_name in stats_table_names:\n",
    "    full_table_name = 'stats.' + table_name\n",
    "    table_schema = player_df.select(full_table_name).schema[0].dataType.elementType\n",
    "    stats_table_schemas[table_name] = table_schema"
   ]
  },
  {
   "cell_type": "markdown",
   "metadata": {},
   "source": [
    "# Process table"
   ]
  },
  {
   "cell_type": "code",
   "execution_count": 8,
   "metadata": {},
   "outputs": [],
   "source": [
    "from tqdm import tqdm"
   ]
  },
  {
   "cell_type": "code",
   "execution_count": 9,
   "metadata": {
    "scrolled": true,
    "tags": []
   },
   "outputs": [
    {
     "name": "stderr",
     "output_type": "stream",
     "text": [
      "100%|██████████| 710/710 [13:38<00:00,  1.15s/it]\n"
     ]
    }
   ],
   "source": [
    "stats_tables = {}\n",
    "info_table = spark.createDataFrame(\n",
    "    data = sc.emptyRDD(),\n",
    "    schema = info_table_schema\n",
    ")\n",
    "\n",
    "for player_row in tqdm(player_df.collect()):\n",
    "    player_id = player_row['_id']\n",
    "    player_info = player_row['info']\n",
    "    player_stats = player_row['stats']\n",
    "    \n",
    "    # Parse Info table\n",
    "    try:\n",
    "        info_df = spark.createDataFrame([player_info], schema=info_table_schema) \n",
    "        info_table = info_table.union(info_df)\n",
    "    except Exception as e: \n",
    "        print(e)\n",
    "        print(\"ERROR when parsing info\", player_id, player_info)\n",
    "    \n",
    "    # Parse Stats tables\n",
    "    for table_name in stats_table_names:\n",
    "        table_data = player_stats[table_name]\n",
    "        if not table_data:\n",
    "            continue\n",
    "\n",
    "        table_schema = stats_table_schemas[table_name]\n",
    "\n",
    "        try:\n",
    "            sub_stats_df = spark.createDataFrame(table_data, schema=table_schema) \n",
    "            sub_stats_df = sub_stats_df.withColumn(\"PlayerID\", lit(player_id))\n",
    "\n",
    "            if table_name in stats_tables:\n",
    "                stats_tables[table_name] = stats_tables[table_name].union(sub_stats_df)\n",
    "            else:\n",
    "                stats_tables[table_name] = sub_stats_df    \n",
    "        except Exception as e: \n",
    "            print(e)\n",
    "            print(\"ERROR when parsing stats\", player_id, table_name)"
   ]
  },
  {
   "cell_type": "markdown",
   "metadata": {},
   "source": [
    "## Process Info"
   ]
  },
  {
   "cell_type": "code",
   "execution_count": null,
   "metadata": {},
   "outputs": [],
   "source": [
    "import"
   ]
  },
  {
   "cell_type": "code",
   "execution_count": 10,
   "metadata": {},
   "outputs": [
    {
     "name": "stdout",
     "output_type": "stream",
     "text": [
      "root\n",
      " |-- ShortName: string (nullable = true)\n",
      " |-- FullName: string (nullable = true)\n",
      " |-- Position: string (nullable = true)\n",
      " |-- Height: string (nullable = true)\n",
      " |-- Weight: string (nullable = true)\n",
      " |-- Footed: string (nullable = true)\n",
      " |-- DOB: string (nullable = true)\n",
      " |-- Nationality: string (nullable = true)\n",
      " |-- Club: string (nullable = true)\n",
      "\n"
     ]
    }
   ],
   "source": [
    "info_table.printSchema()"
   ]
  },
  {
   "cell_type": "code",
   "execution_count": 14,
   "metadata": {},
   "outputs": [
    {
     "data": {
      "text/plain": [
       "Row(ShortName='Nicolas Pépé', FullName=None, Position=' FW-MF (AM, right)\\xa0▪\\xa0 ', Height='178cm', Weight='68kg', Footed=' Left', DOB='1995-05-29', Nationality='CIV', Club='132ebc33')"
      ]
     },
     "execution_count": 14,
     "metadata": {},
     "output_type": "execute_result"
    }
   ],
   "source": [
    "info_table.collect()[0]"
   ]
  },
  {
   "cell_type": "code",
   "execution_count": null,
   "metadata": {},
   "outputs": [],
   "source": [
    "def process_text(text):\n",
    "    if not isinstance(text, str):\n",
    "        return text\n",
    "\n",
    "info_table.withColumn(\"ShortName\", process_text)"
   ]
  },
  {
   "cell_type": "markdown",
   "metadata": {},
   "source": [
    "## Process Stats"
   ]
  },
  {
   "cell_type": "code",
   "execution_count": null,
   "metadata": {
    "scrolled": true,
    "tags": []
   },
   "outputs": [],
   "source": [
    "for table_name in stats_tables:\n",
    "    table_data = stats_tables[table_name]\n",
    "    print(table_name)\n",
    "    table_data.show(n=5)\n",
    "    print()"
   ]
  },
  {
   "cell_type": "code",
   "execution_count": null,
   "metadata": {},
   "outputs": [],
   "source": []
  },
  {
   "cell_type": "markdown",
   "metadata": {},
   "source": [
    "# Save table"
   ]
  },
  {
   "cell_type": "code",
   "execution_count": null,
   "metadata": {},
   "outputs": [],
   "source": [
    "(info_table.write.format(\"jdbc\")\n",
    "    .option(\"url\", \"jdbc:postgresql://postgres:5432/news_crawled\")\n",
    "    .option(\"driver\", \"org.postgresql.Driver\")\n",
    "    .option(\"dbtable\", \"player_info\")\n",
    "    .option(\"user\", \"test1\")\n",
    "    .option(\"password\", \"test1\")\n",
    "    .save()\n",
    ")"
   ]
  },
  {
   "cell_type": "code",
   "execution_count": null,
   "metadata": {},
   "outputs": [],
   "source": [
    "for table_name in stats_tables:\n",
    "    full_table_name = 'player_' + table_name\n",
    "    table_df = stats_tables[table_name]\n",
    "    \n",
    "    (table_df.write.format(\"jdbc\")\n",
    "        .option(\"url\", \"jdbc:postgresql://postgres:5432/news_crawled\")\n",
    "        .option(\"driver\", \"org.postgresql.Driver\")\n",
    "        .option(\"dbtable\", full_table_name)\n",
    "        .option(\"user\", \"test1\")\n",
    "        .option(\"password\", \"test1\")\n",
    "        .save()\n",
    "    )\n",
    "    "
   ]
  }
 ],
 "metadata": {
  "kernelspec": {
   "display_name": "Python 3 (ipykernel)",
   "language": "python",
   "name": "python3"
  },
  "language_info": {
   "codemirror_mode": {
    "name": "ipython",
    "version": 3
   },
   "file_extension": ".py",
   "mimetype": "text/x-python",
   "name": "python",
   "nbconvert_exporter": "python",
   "pygments_lexer": "ipython3",
   "version": "3.9.13"
  },
  "vscode": {
   "interpreter": {
    "hash": "ef5c86095758c38672f850e8bf4a2cb572b380cc4c10632a5b8af650a801b002"
   }
  }
 },
 "nbformat": 4,
 "nbformat_minor": 4
}
